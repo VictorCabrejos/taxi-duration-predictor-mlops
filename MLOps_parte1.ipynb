{
  "nbformat": 4,
  "nbformat_minor": 0,
  "metadata": {
    "colab": {
      "provenance": []
    },
    "kernelspec": {
      "name": "python3",
      "display_name": "Python 3"
    },
    "language_info": {
      "name": "python"
    }
  },
  "cells": [
    {
      "cell_type": "markdown",
      "source": [
        "# 🚕 New York City Taxi Trip Duration 🚕\n",
        "\n",
        "En esta práctica vamos a trabajar con el **dataset histórico de viajes en taxi amarillo de la ciudad de Nueva York**.\n",
        "\n",
        "Este dataset es parte de una competencia original de Kaggle y está basado en los registros del **NYC Yellow Cab 2016**, publicados por la NYC Taxi and Limousine Commission (TLC).  \n",
        "El objetivo es **predecir la duración de cada viaje** en segundos, usando variables relacionadas con la ubicación, la fecha y la cantidad de pasajeros.\n",
        "\n",
        "---\n",
        "\n",
        "## 📊 **Descripción de las columnas**\n",
        "\n",
        "| Columna               | Descripción                                                                 |\n",
        "|-----------------------|------------------------------------------------------------------------------|\n",
        "| `id`                  | Identificador único de cada viaje.                                          |\n",
        "| `vendor_id`           | Código del proveedor de taxi asociado al registro.                          |\n",
        "| `pickup_datetime`     | Fecha y hora en la que se inició el viaje (cuando se activó el taxímetro).  |\n",
        "| `dropoff_datetime`    | Fecha y hora en la que terminó el viaje (cuando se apagó el taxímetro).     |\n",
        "| `passenger_count`     | Número de pasajeros (dato ingresado por el conductor).                      |\n",
        "| `pickup_longitude`    | Longitud del punto de recogida.                                             |\n",
        "| `pickup_latitude`     | Latitud del punto de recogida.                                              |\n",
        "| `dropoff_longitude`   | Longitud del punto de destino.                                              |\n",
        "| `dropoff_latitude`    | Latitud del punto de destino.                                               |\n",
        "| `store_and_fwd_flag`  | Indica si el viaje se almacenó en memoria antes de enviarse al servidor.    |\n",
        "| `trip_duration`       | Duración del viaje en segundos (variable objetivo para la predicción).      |\n",
        "\n",
        "---\n",
        "\n",
        "## 🎯 **Objetivo**\n",
        "\n",
        "- Construir un **modelo de regresión supervisado** para predecir `trip_duration`.\n",
        "- Registrar y comparar diferentes experimentos usando **MLflow** para aplicar prácticas básicas de **MLOps**.\n",
        "- Demostrar cómo versionar modelos y parámetros de forma reproducible para un flujo de trabajo escalable.\n",
        "\n",
        "---\n",
        "\n",
        "## 🔗 **Fuente**\n",
        "\n",
        "Este dataset se encuentra disponible públicamente en Kaggle: [NYC Taxi Trip Duration](https://www.kaggle.com/competitions/nyc-taxi-trip-duration)\n",
        "\n",
        "---\n"
      ],
      "metadata": {
        "id": "ksG5skAmAc3N"
      }
    },
    {
      "cell_type": "markdown",
      "source": [
        "#1) Setup e Imports"
      ],
      "metadata": {
        "id": "gjsBRBb-yhz3"
      }
    },
    {
      "cell_type": "code",
      "execution_count": null,
      "metadata": {
        "id": "5OelspwQubge"
      },
      "outputs": [],
      "source": [
        "# Instala MLflow\n",
        "!pip install -q mlflow\n",
        "!pip install -q pyngrok"
      ]
    },
    {
      "cell_type": "code",
      "source": [
        "import pandas as pd\n",
        "import numpy as np\n",
        "\n",
        "from sklearn.model_selection import train_test_split\n",
        "from sklearn.ensemble import RandomForestRegressor\n",
        "from sklearn.metrics import mean_squared_error\n",
        "\n",
        "import mlflow\n",
        "import mlflow.sklearn"
      ],
      "metadata": {
        "id": "6NK9FHLvv0HT"
      },
      "execution_count": null,
      "outputs": []
    },
    {
      "cell_type": "markdown",
      "source": [
        "#2) Cargar el Dataset"
      ],
      "metadata": {
        "id": "DoNcDV5Myebl"
      }
    },
    {
      "cell_type": "code",
      "source": [
        "df = pd.read_csv('train.csv')  # Asegúrate del nombre exacto\n",
        "\n",
        "# Muestra un vistazo\n",
        "df.head()"
      ],
      "metadata": {
        "colab": {
          "base_uri": "https://localhost:8080/",
          "height": 312
        },
        "id": "ztwhkFulv5wv",
        "outputId": "70ca1904-c92b-4ce0-d0ab-d75d766abfa8"
      },
      "execution_count": null,
      "outputs": [
        {
          "output_type": "execute_result",
          "data": {
            "text/plain": [
              "          id  vendor_id      pickup_datetime     dropoff_datetime  \\\n",
              "0  id2875421          2  2016-03-14 17:24:55  2016-03-14 17:32:30   \n",
              "1  id2377394          1  2016-06-12 00:43:35  2016-06-12 00:54:38   \n",
              "2  id3858529          2  2016-01-19 11:35:24  2016-01-19 12:10:48   \n",
              "3  id3504673          2  2016-04-06 19:32:31  2016-04-06 19:39:40   \n",
              "4  id2181028          2  2016-03-26 13:30:55  2016-03-26 13:38:10   \n",
              "\n",
              "   passenger_count  pickup_longitude  pickup_latitude  dropoff_longitude  \\\n",
              "0                1        -73.982155        40.767937         -73.964630   \n",
              "1                1        -73.980415        40.738564         -73.999481   \n",
              "2                1        -73.979027        40.763939         -74.005333   \n",
              "3                1        -74.010040        40.719971         -74.012268   \n",
              "4                1        -73.973053        40.793209         -73.972923   \n",
              "\n",
              "   dropoff_latitude store_and_fwd_flag  trip_duration  \n",
              "0         40.765602                  N          455.0  \n",
              "1         40.731152                  N          663.0  \n",
              "2         40.710087                  N         2124.0  \n",
              "3         40.706718                  N          429.0  \n",
              "4         40.782520                  N          435.0  "
            ],
            "text/html": [
              "\n",
              "  <div id=\"df-72939311-54eb-4360-9e1b-da3db816f437\" class=\"colab-df-container\">\n",
              "    <div>\n",
              "<style scoped>\n",
              "    .dataframe tbody tr th:only-of-type {\n",
              "        vertical-align: middle;\n",
              "    }\n",
              "\n",
              "    .dataframe tbody tr th {\n",
              "        vertical-align: top;\n",
              "    }\n",
              "\n",
              "    .dataframe thead th {\n",
              "        text-align: right;\n",
              "    }\n",
              "</style>\n",
              "<table border=\"1\" class=\"dataframe\">\n",
              "  <thead>\n",
              "    <tr style=\"text-align: right;\">\n",
              "      <th></th>\n",
              "      <th>id</th>\n",
              "      <th>vendor_id</th>\n",
              "      <th>pickup_datetime</th>\n",
              "      <th>dropoff_datetime</th>\n",
              "      <th>passenger_count</th>\n",
              "      <th>pickup_longitude</th>\n",
              "      <th>pickup_latitude</th>\n",
              "      <th>dropoff_longitude</th>\n",
              "      <th>dropoff_latitude</th>\n",
              "      <th>store_and_fwd_flag</th>\n",
              "      <th>trip_duration</th>\n",
              "    </tr>\n",
              "  </thead>\n",
              "  <tbody>\n",
              "    <tr>\n",
              "      <th>0</th>\n",
              "      <td>id2875421</td>\n",
              "      <td>2</td>\n",
              "      <td>2016-03-14 17:24:55</td>\n",
              "      <td>2016-03-14 17:32:30</td>\n",
              "      <td>1</td>\n",
              "      <td>-73.982155</td>\n",
              "      <td>40.767937</td>\n",
              "      <td>-73.964630</td>\n",
              "      <td>40.765602</td>\n",
              "      <td>N</td>\n",
              "      <td>455.0</td>\n",
              "    </tr>\n",
              "    <tr>\n",
              "      <th>1</th>\n",
              "      <td>id2377394</td>\n",
              "      <td>1</td>\n",
              "      <td>2016-06-12 00:43:35</td>\n",
              "      <td>2016-06-12 00:54:38</td>\n",
              "      <td>1</td>\n",
              "      <td>-73.980415</td>\n",
              "      <td>40.738564</td>\n",
              "      <td>-73.999481</td>\n",
              "      <td>40.731152</td>\n",
              "      <td>N</td>\n",
              "      <td>663.0</td>\n",
              "    </tr>\n",
              "    <tr>\n",
              "      <th>2</th>\n",
              "      <td>id3858529</td>\n",
              "      <td>2</td>\n",
              "      <td>2016-01-19 11:35:24</td>\n",
              "      <td>2016-01-19 12:10:48</td>\n",
              "      <td>1</td>\n",
              "      <td>-73.979027</td>\n",
              "      <td>40.763939</td>\n",
              "      <td>-74.005333</td>\n",
              "      <td>40.710087</td>\n",
              "      <td>N</td>\n",
              "      <td>2124.0</td>\n",
              "    </tr>\n",
              "    <tr>\n",
              "      <th>3</th>\n",
              "      <td>id3504673</td>\n",
              "      <td>2</td>\n",
              "      <td>2016-04-06 19:32:31</td>\n",
              "      <td>2016-04-06 19:39:40</td>\n",
              "      <td>1</td>\n",
              "      <td>-74.010040</td>\n",
              "      <td>40.719971</td>\n",
              "      <td>-74.012268</td>\n",
              "      <td>40.706718</td>\n",
              "      <td>N</td>\n",
              "      <td>429.0</td>\n",
              "    </tr>\n",
              "    <tr>\n",
              "      <th>4</th>\n",
              "      <td>id2181028</td>\n",
              "      <td>2</td>\n",
              "      <td>2016-03-26 13:30:55</td>\n",
              "      <td>2016-03-26 13:38:10</td>\n",
              "      <td>1</td>\n",
              "      <td>-73.973053</td>\n",
              "      <td>40.793209</td>\n",
              "      <td>-73.972923</td>\n",
              "      <td>40.782520</td>\n",
              "      <td>N</td>\n",
              "      <td>435.0</td>\n",
              "    </tr>\n",
              "  </tbody>\n",
              "</table>\n",
              "</div>\n",
              "    <div class=\"colab-df-buttons\">\n",
              "\n",
              "  <div class=\"colab-df-container\">\n",
              "    <button class=\"colab-df-convert\" onclick=\"convertToInteractive('df-72939311-54eb-4360-9e1b-da3db816f437')\"\n",
              "            title=\"Convert this dataframe to an interactive table.\"\n",
              "            style=\"display:none;\">\n",
              "\n",
              "  <svg xmlns=\"http://www.w3.org/2000/svg\" height=\"24px\" viewBox=\"0 -960 960 960\">\n",
              "    <path d=\"M120-120v-720h720v720H120Zm60-500h600v-160H180v160Zm220 220h160v-160H400v160Zm0 220h160v-160H400v160ZM180-400h160v-160H180v160Zm440 0h160v-160H620v160ZM180-180h160v-160H180v160Zm440 0h160v-160H620v160Z\"/>\n",
              "  </svg>\n",
              "    </button>\n",
              "\n",
              "  <style>\n",
              "    .colab-df-container {\n",
              "      display:flex;\n",
              "      gap: 12px;\n",
              "    }\n",
              "\n",
              "    .colab-df-convert {\n",
              "      background-color: #E8F0FE;\n",
              "      border: none;\n",
              "      border-radius: 50%;\n",
              "      cursor: pointer;\n",
              "      display: none;\n",
              "      fill: #1967D2;\n",
              "      height: 32px;\n",
              "      padding: 0 0 0 0;\n",
              "      width: 32px;\n",
              "    }\n",
              "\n",
              "    .colab-df-convert:hover {\n",
              "      background-color: #E2EBFA;\n",
              "      box-shadow: 0px 1px 2px rgba(60, 64, 67, 0.3), 0px 1px 3px 1px rgba(60, 64, 67, 0.15);\n",
              "      fill: #174EA6;\n",
              "    }\n",
              "\n",
              "    .colab-df-buttons div {\n",
              "      margin-bottom: 4px;\n",
              "    }\n",
              "\n",
              "    [theme=dark] .colab-df-convert {\n",
              "      background-color: #3B4455;\n",
              "      fill: #D2E3FC;\n",
              "    }\n",
              "\n",
              "    [theme=dark] .colab-df-convert:hover {\n",
              "      background-color: #434B5C;\n",
              "      box-shadow: 0px 1px 3px 1px rgba(0, 0, 0, 0.15);\n",
              "      filter: drop-shadow(0px 1px 2px rgba(0, 0, 0, 0.3));\n",
              "      fill: #FFFFFF;\n",
              "    }\n",
              "  </style>\n",
              "\n",
              "    <script>\n",
              "      const buttonEl =\n",
              "        document.querySelector('#df-72939311-54eb-4360-9e1b-da3db816f437 button.colab-df-convert');\n",
              "      buttonEl.style.display =\n",
              "        google.colab.kernel.accessAllowed ? 'block' : 'none';\n",
              "\n",
              "      async function convertToInteractive(key) {\n",
              "        const element = document.querySelector('#df-72939311-54eb-4360-9e1b-da3db816f437');\n",
              "        const dataTable =\n",
              "          await google.colab.kernel.invokeFunction('convertToInteractive',\n",
              "                                                    [key], {});\n",
              "        if (!dataTable) return;\n",
              "\n",
              "        const docLinkHtml = 'Like what you see? Visit the ' +\n",
              "          '<a target=\"_blank\" href=https://colab.research.google.com/notebooks/data_table.ipynb>data table notebook</a>'\n",
              "          + ' to learn more about interactive tables.';\n",
              "        element.innerHTML = '';\n",
              "        dataTable['output_type'] = 'display_data';\n",
              "        await google.colab.output.renderOutput(dataTable, element);\n",
              "        const docLink = document.createElement('div');\n",
              "        docLink.innerHTML = docLinkHtml;\n",
              "        element.appendChild(docLink);\n",
              "      }\n",
              "    </script>\n",
              "  </div>\n",
              "\n",
              "\n",
              "    <div id=\"df-8801a954-4c91-472c-8af7-da87fdf55266\">\n",
              "      <button class=\"colab-df-quickchart\" onclick=\"quickchart('df-8801a954-4c91-472c-8af7-da87fdf55266')\"\n",
              "                title=\"Suggest charts\"\n",
              "                style=\"display:none;\">\n",
              "\n",
              "<svg xmlns=\"http://www.w3.org/2000/svg\" height=\"24px\"viewBox=\"0 0 24 24\"\n",
              "     width=\"24px\">\n",
              "    <g>\n",
              "        <path d=\"M19 3H5c-1.1 0-2 .9-2 2v14c0 1.1.9 2 2 2h14c1.1 0 2-.9 2-2V5c0-1.1-.9-2-2-2zM9 17H7v-7h2v7zm4 0h-2V7h2v10zm4 0h-2v-4h2v4z\"/>\n",
              "    </g>\n",
              "</svg>\n",
              "      </button>\n",
              "\n",
              "<style>\n",
              "  .colab-df-quickchart {\n",
              "      --bg-color: #E8F0FE;\n",
              "      --fill-color: #1967D2;\n",
              "      --hover-bg-color: #E2EBFA;\n",
              "      --hover-fill-color: #174EA6;\n",
              "      --disabled-fill-color: #AAA;\n",
              "      --disabled-bg-color: #DDD;\n",
              "  }\n",
              "\n",
              "  [theme=dark] .colab-df-quickchart {\n",
              "      --bg-color: #3B4455;\n",
              "      --fill-color: #D2E3FC;\n",
              "      --hover-bg-color: #434B5C;\n",
              "      --hover-fill-color: #FFFFFF;\n",
              "      --disabled-bg-color: #3B4455;\n",
              "      --disabled-fill-color: #666;\n",
              "  }\n",
              "\n",
              "  .colab-df-quickchart {\n",
              "    background-color: var(--bg-color);\n",
              "    border: none;\n",
              "    border-radius: 50%;\n",
              "    cursor: pointer;\n",
              "    display: none;\n",
              "    fill: var(--fill-color);\n",
              "    height: 32px;\n",
              "    padding: 0;\n",
              "    width: 32px;\n",
              "  }\n",
              "\n",
              "  .colab-df-quickchart:hover {\n",
              "    background-color: var(--hover-bg-color);\n",
              "    box-shadow: 0 1px 2px rgba(60, 64, 67, 0.3), 0 1px 3px 1px rgba(60, 64, 67, 0.15);\n",
              "    fill: var(--button-hover-fill-color);\n",
              "  }\n",
              "\n",
              "  .colab-df-quickchart-complete:disabled,\n",
              "  .colab-df-quickchart-complete:disabled:hover {\n",
              "    background-color: var(--disabled-bg-color);\n",
              "    fill: var(--disabled-fill-color);\n",
              "    box-shadow: none;\n",
              "  }\n",
              "\n",
              "  .colab-df-spinner {\n",
              "    border: 2px solid var(--fill-color);\n",
              "    border-color: transparent;\n",
              "    border-bottom-color: var(--fill-color);\n",
              "    animation:\n",
              "      spin 1s steps(1) infinite;\n",
              "  }\n",
              "\n",
              "  @keyframes spin {\n",
              "    0% {\n",
              "      border-color: transparent;\n",
              "      border-bottom-color: var(--fill-color);\n",
              "      border-left-color: var(--fill-color);\n",
              "    }\n",
              "    20% {\n",
              "      border-color: transparent;\n",
              "      border-left-color: var(--fill-color);\n",
              "      border-top-color: var(--fill-color);\n",
              "    }\n",
              "    30% {\n",
              "      border-color: transparent;\n",
              "      border-left-color: var(--fill-color);\n",
              "      border-top-color: var(--fill-color);\n",
              "      border-right-color: var(--fill-color);\n",
              "    }\n",
              "    40% {\n",
              "      border-color: transparent;\n",
              "      border-right-color: var(--fill-color);\n",
              "      border-top-color: var(--fill-color);\n",
              "    }\n",
              "    60% {\n",
              "      border-color: transparent;\n",
              "      border-right-color: var(--fill-color);\n",
              "    }\n",
              "    80% {\n",
              "      border-color: transparent;\n",
              "      border-right-color: var(--fill-color);\n",
              "      border-bottom-color: var(--fill-color);\n",
              "    }\n",
              "    90% {\n",
              "      border-color: transparent;\n",
              "      border-bottom-color: var(--fill-color);\n",
              "    }\n",
              "  }\n",
              "</style>\n",
              "\n",
              "      <script>\n",
              "        async function quickchart(key) {\n",
              "          const quickchartButtonEl =\n",
              "            document.querySelector('#' + key + ' button');\n",
              "          quickchartButtonEl.disabled = true;  // To prevent multiple clicks.\n",
              "          quickchartButtonEl.classList.add('colab-df-spinner');\n",
              "          try {\n",
              "            const charts = await google.colab.kernel.invokeFunction(\n",
              "                'suggestCharts', [key], {});\n",
              "          } catch (error) {\n",
              "            console.error('Error during call to suggestCharts:', error);\n",
              "          }\n",
              "          quickchartButtonEl.classList.remove('colab-df-spinner');\n",
              "          quickchartButtonEl.classList.add('colab-df-quickchart-complete');\n",
              "        }\n",
              "        (() => {\n",
              "          let quickchartButtonEl =\n",
              "            document.querySelector('#df-8801a954-4c91-472c-8af7-da87fdf55266 button');\n",
              "          quickchartButtonEl.style.display =\n",
              "            google.colab.kernel.accessAllowed ? 'block' : 'none';\n",
              "        })();\n",
              "      </script>\n",
              "    </div>\n",
              "\n",
              "    </div>\n",
              "  </div>\n"
            ],
            "application/vnd.google.colaboratory.intrinsic+json": {
              "type": "dataframe",
              "variable_name": "df"
            }
          },
          "metadata": {},
          "execution_count": 3
        }
      ]
    },
    {
      "cell_type": "code",
      "source": [
        "df.info()"
      ],
      "metadata": {
        "colab": {
          "base_uri": "https://localhost:8080/"
        },
        "id": "WFkX0NA6v8En",
        "outputId": "fd3fe3a7-6617-4c95-edab-9bdff009f167"
      },
      "execution_count": null,
      "outputs": [
        {
          "output_type": "stream",
          "name": "stdout",
          "text": [
            "<class 'pandas.core.frame.DataFrame'>\n",
            "RangeIndex: 556611 entries, 0 to 556610\n",
            "Data columns (total 11 columns):\n",
            " #   Column              Non-Null Count   Dtype  \n",
            "---  ------              --------------   -----  \n",
            " 0   id                  556611 non-null  object \n",
            " 1   vendor_id           556611 non-null  int64  \n",
            " 2   pickup_datetime     556611 non-null  object \n",
            " 3   dropoff_datetime    556611 non-null  object \n",
            " 4   passenger_count     556611 non-null  int64  \n",
            " 5   pickup_longitude    556611 non-null  float64\n",
            " 6   pickup_latitude     556611 non-null  float64\n",
            " 7   dropoff_longitude   556611 non-null  float64\n",
            " 8   dropoff_latitude    556610 non-null  float64\n",
            " 9   store_and_fwd_flag  556610 non-null  object \n",
            " 10  trip_duration       556610 non-null  float64\n",
            "dtypes: float64(5), int64(2), object(4)\n",
            "memory usage: 46.7+ MB\n"
          ]
        }
      ]
    },
    {
      "cell_type": "markdown",
      "source": [
        "#3) Preprocesamiento Simple"
      ],
      "metadata": {
        "id": "waG4HxfSybwh"
      }
    },
    {
      "cell_type": "code",
      "source": [
        "# Elimina filas con NaNs\n",
        "df = df.dropna()"
      ],
      "metadata": {
        "id": "gVB9nEhOwoHa"
      },
      "execution_count": null,
      "outputs": []
    },
    {
      "cell_type": "code",
      "source": [
        "\n",
        "cols = [\n",
        "    'pickup_longitude', 'pickup_latitude',\n",
        "    'dropoff_longitude', 'dropoff_latitude',\n",
        "    'passenger_count'\n",
        "]\n",
        "\n",
        "X = df[cols]\n",
        "y = df['trip_duration']\n",
        "\n",
        "# Siempre revisa si hay NaNs\n",
        "print(X.isnull().sum())\n",
        "print(y.isnull().sum())\n"
      ],
      "metadata": {
        "colab": {
          "base_uri": "https://localhost:8080/"
        },
        "id": "PeCKGgz9wDLB",
        "outputId": "8b278030-67bf-4c72-a20c-6a0e773bf488"
      },
      "execution_count": null,
      "outputs": [
        {
          "output_type": "stream",
          "name": "stdout",
          "text": [
            "pickup_longitude     0\n",
            "pickup_latitude      0\n",
            "dropoff_longitude    0\n",
            "dropoff_latitude     0\n",
            "passenger_count      0\n",
            "dtype: int64\n",
            "0\n"
          ]
        }
      ]
    },
    {
      "cell_type": "code",
      "source": [
        "\n",
        "# Split train/test\n",
        "X_train, X_test, y_train, y_test = train_test_split(X, y, test_size=0.2, random_state=42)\n",
        "\n",
        "# Asegura float64 para evitar schema issues con MLflow\n",
        "X_train = X_train.astype(np.float64)\n",
        "X_test = X_test.astype(np.float64)"
      ],
      "metadata": {
        "id": "B9tDc-b5wjIk"
      },
      "execution_count": null,
      "outputs": []
    },
    {
      "cell_type": "markdown",
      "source": [
        "#4) Configura MLflow"
      ],
      "metadata": {
        "id": "8o58y6q9yYHZ"
      }
    },
    {
      "cell_type": "code",
      "source": [
        "# Usaremos local tracking URI por defecto\n",
        "mlflow.set_experiment(\"NYC_Taxi_Trip_Duration\")"
      ],
      "metadata": {
        "colab": {
          "base_uri": "https://localhost:8080/"
        },
        "id": "rcS--lmRwFu6",
        "outputId": "44758f18-6730-427e-e592-50d38c6ffeba"
      },
      "execution_count": null,
      "outputs": [
        {
          "output_type": "execute_result",
          "data": {
            "text/plain": [
              "<Experiment: artifact_location='file:///content/mlruns/260240400766724174', creation_time=1752208284713, experiment_id='260240400766724174', last_update_time=1752208284713, lifecycle_stage='active', name='NYC_Taxi_Trip_Duration', tags={}>"
            ]
          },
          "metadata": {},
          "execution_count": 18
        }
      ]
    },
    {
      "cell_type": "markdown",
      "source": [
        "# 5) Entrenamiento + Tracking"
      ],
      "metadata": {
        "id": "Z9iE3I5dyU05"
      }
    },
    {
      "cell_type": "code",
      "source": [
        "def train_and_log_model(n_estimators, max_depth, X_train, X_test, y_train, y_test):\n",
        "    from sklearn.ensemble import RandomForestRegressor\n",
        "    from sklearn.metrics import mean_squared_error\n",
        "    import numpy as np\n",
        "    import mlflow\n",
        "    import mlflow.sklearn\n",
        "\n",
        "    with mlflow.start_run():\n",
        "        # Modelo\n",
        "        rf = RandomForestRegressor(\n",
        "            n_estimators=n_estimators,\n",
        "            max_depth=max_depth,\n",
        "            random_state=42\n",
        "        )\n",
        "        rf.fit(X_train, y_train)\n",
        "\n",
        "        # Predicción y métrica\n",
        "        y_pred = rf.predict(X_test)\n",
        "        rmse = np.sqrt(mean_squared_error(y_test, y_pred))\n",
        "\n",
        "        # Log params y métricas\n",
        "        mlflow.log_param(\"n_estimators\", n_estimators)\n",
        "        mlflow.log_param(\"max_depth\", max_depth)\n",
        "        mlflow.log_metric(\"rmse\", rmse)\n",
        "\n",
        "        # input_example y signature\n",
        "        input_example = X_train.iloc[:2]\n",
        "        signature = mlflow.models.infer_signature(X_train, rf.predict(X_train))\n",
        "\n",
        "        # Log model con Registry\n",
        "        mlflow.sklearn.log_model(\n",
        "            sk_model=rf,\n",
        "            name=\"random_forest_model\",\n",
        "            input_example=input_example,\n",
        "            signature=signature,\n",
        "            registered_model_name=\"NYC_Taxi_Trip_Model\"\n",
        "        )\n",
        "\n",
        "        print(f\"Run finalizado con RMSE: {rmse:.2f}\")"
      ],
      "metadata": {
        "id": "Hleox-SN7-TR"
      },
      "execution_count": null,
      "outputs": []
    },
    {
      "cell_type": "code",
      "source": [
        "# Primera corrida\n",
        "train_and_log_model(100, 5, X_train, X_test, y_train, y_test)"
      ],
      "metadata": {
        "colab": {
          "base_uri": "https://localhost:8080/"
        },
        "id": "Fc4oISKGwJ6I",
        "outputId": "49c21e2f-2ac7-4382-bfbc-a9a5dec7fed9"
      },
      "execution_count": null,
      "outputs": [
        {
          "output_type": "stream",
          "name": "stdout",
          "text": [
            "Run finalizado con RMSE: 3295.59\n"
          ]
        },
        {
          "output_type": "stream",
          "name": "stderr",
          "text": [
            "Registered model 'NYC_Taxi_Trip_Model' already exists. Creating a new version of this model...\n",
            "Created version '2' of model 'NYC_Taxi_Trip_Model'.\n"
          ]
        }
      ]
    },
    {
      "cell_type": "markdown",
      "source": [
        "#6) Visualiza Runs"
      ],
      "metadata": {
        "id": "wX-xO0WNzYIz"
      }
    },
    {
      "cell_type": "code",
      "source": [
        "# Para abrir la UI local en Colab, usa un túnel con ngrok\n",
        "# 1. Inicia MLflow UI en segundo plano\n",
        "get_ipython().system_raw(\"mlflow ui --port 5000 &\")\n",
        "\n",
        "# 2. Crea una cuenta y conecta ngrok (obten tu token unico)\n",
        "# Ve a https://dashboard.ngrok.com/get-started/your-authtoken\n",
        "# Copia tu token único (es una cadena larga, algo como 2NEb9XXX...)\n",
        "\n",
        "from pyngrok import ngrok\n",
        "\n",
        "# Abre el túnel\n",
        "ngrok.set_auth_token(\"2gfrSPOOMcEFhJziAOkQ6SGFz3K_2mTzkKgbr8L6hRoTdowv1\")  # reemplaza si lo tienes\n",
        "public_url = ngrok.connect(5000)\n",
        "print(\"MLflow UI:\", public_url)\n"
      ],
      "metadata": {
        "colab": {
          "base_uri": "https://localhost:8080/"
        },
        "id": "DTNCFjN7wbRN",
        "outputId": "8c3419aa-aaea-43c7-bbda-4780072d582e"
      },
      "execution_count": null,
      "outputs": [
        {
          "output_type": "stream",
          "name": "stdout",
          "text": [
            "MLflow UI: NgrokTunnel: \"https://71be63c4f70f.ngrok-free.app\" -> \"http://localhost:5000\"\n"
          ]
        }
      ]
    },
    {
      "cell_type": "markdown",
      "source": [
        "#7) Haz Varias Corridas"
      ],
      "metadata": {
        "id": "KeKMlrJR8PG8"
      }
    },
    {
      "cell_type": "code",
      "source": [
        "# Otra corrida con otros hyperparams\n",
        "n_estimators = 200\n",
        "max_depth = 8\n",
        "\n",
        "# Otra corrida con otros hyperparams\n",
        "train_and_log_model(n_estimators, max_depth, X_train, X_test, y_train, y_test)\n",
        "\n",
        "# cada run se guarda perfectamente versionado en tu Experimento y tu Model Registry"
      ],
      "metadata": {
        "colab": {
          "base_uri": "https://localhost:8080/"
        },
        "id": "bTUJHb4d1d_T",
        "outputId": "d3234950-4e38-43da-fe81-86298a840dca"
      },
      "execution_count": null,
      "outputs": [
        {
          "output_type": "stream",
          "name": "stdout",
          "text": [
            "Run finalizado con RMSE: 3271.30\n"
          ]
        },
        {
          "output_type": "stream",
          "name": "stderr",
          "text": [
            "Registered model 'NYC_Taxi_Trip_Model' already exists. Creating a new version of this model...\n",
            "Created version '3' of model 'NYC_Taxi_Trip_Model'.\n"
          ]
        }
      ]
    },
    {
      "cell_type": "code",
      "source": [
        "# Otra más\n",
        "train_and_log_model(300, 10, X_train, X_test, y_train, y_test)"
      ],
      "metadata": {
        "colab": {
          "base_uri": "https://localhost:8080/"
        },
        "id": "GZa15w6e83fx",
        "outputId": "180b4525-113f-432e-c36d-b100558a5166"
      },
      "execution_count": null,
      "outputs": [
        {
          "output_type": "stream",
          "name": "stdout",
          "text": [
            "Run finalizado con RMSE: 3299.41\n"
          ]
        },
        {
          "output_type": "stream",
          "name": "stderr",
          "text": [
            "Registered model 'NYC_Taxi_Trip_Model' already exists. Creating a new version of this model...\n",
            "Created version '4' of model 'NYC_Taxi_Trip_Model'.\n"
          ]
        }
      ]
    },
    {
      "cell_type": "code",
      "source": [],
      "metadata": {
        "id": "i5MHr2GX-1AK"
      },
      "execution_count": null,
      "outputs": []
    }
  ]
}